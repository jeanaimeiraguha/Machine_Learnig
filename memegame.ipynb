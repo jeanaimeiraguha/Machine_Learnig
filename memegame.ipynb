{
 "cells": [
  {
   "cell_type": "code",
   "execution_count": 1,
   "metadata": {},
   "outputs": [
    {
     "name": "stdout",
     "output_type": "stream",
     "text": [
      "Welcome to the Meme Guessing Game!\n",
      "Guess the meme based on the description provided.\n",
      "\n",
      "Description: A meme featuring a cat with a grumpy expression, often used to show displeasure.\n",
      "Wrong! You have 2 attempt(s) left.\n",
      "\n",
      "Description: A meme featuring a cat with a grumpy expression, often used to show displeasure.\n",
      "Wrong! You have 1 attempt(s) left.\n",
      "\n",
      "Description: A meme featuring a cat with a grumpy expression, often used to show displeasure.\n",
      "Out of attempts! The correct meme was: Grumpy Cat\n"
     ]
    }
   ],
   "source": [
    "import random\n",
    "\n",
    "# Define the list of memes\n",
    "memes = {\n",
    "    \"Distracted Boyfriend\": \"A meme featuring a man looking at another woman while his girlfriend looks annoyed.\",\n",
    "    \"Woman Yelling at a Cat\": \"A meme featuring a woman yelling at a cat sitting at a table.\",\n",
    "    \"Mocking SpongeBob\": \"A meme where SpongeBob is shown in an awkward position, mocking someone.\",\n",
    "    \"This Is Fine\": \"A meme showing a dog sitting in a room that's on fire, saying 'This is fine'.\",\n",
    "    \"Grumpy Cat\": \"A meme featuring a cat with a grumpy expression, often used to show displeasure.\",\n",
    "}\n",
    "\n",
    "# Select a random meme from the list\n",
    "selected_meme = random.choice(list(memes.keys()))\n",
    "meme_description = memes[selected_meme]\n",
    "\n",
    "# Game introduction\n",
    "print(\"Welcome to the Meme Guessing Game!\")\n",
    "print(\"Guess the meme based on the description provided.\")\n",
    "\n",
    "# The user gets 3 attempts to guess the meme\n",
    "attempts = 3\n",
    "\n",
    "# Game loop\n",
    "while attempts > 0:\n",
    "    print(f\"\\nDescription: {meme_description}\")\n",
    "    guess = input(\"What's your guess? \")\n",
    "\n",
    "    if guess.strip().lower() == selected_meme.lower():\n",
    "        print(\"Correct! You've guessed the meme!\")\n",
    "        break\n",
    "    else:\n",
    "        attempts -= 1\n",
    "        if attempts > 0:\n",
    "            print(f\"Wrong! You have {attempts} attempt(s) left.\")\n",
    "        else:\n",
    "            print(f\"Out of attempts! The correct meme was: {selected_meme}\")\n"
   ]
  },
  {
   "cell_type": "code",
   "execution_count": null,
   "metadata": {},
   "outputs": [],
   "source": []
  }
 ],
 "metadata": {
  "kernelspec": {
   "display_name": "Python 3",
   "language": "python",
   "name": "python3"
  },
  "language_info": {
   "codemirror_mode": {
    "name": "ipython",
    "version": 3
   },
   "file_extension": ".py",
   "mimetype": "text/x-python",
   "name": "python",
   "nbconvert_exporter": "python",
   "pygments_lexer": "ipython3",
   "version": "3.13.1"
  }
 },
 "nbformat": 4,
 "nbformat_minor": 2
}
